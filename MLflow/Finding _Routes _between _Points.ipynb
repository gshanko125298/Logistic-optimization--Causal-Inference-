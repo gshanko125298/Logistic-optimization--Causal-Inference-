{
 "cells": [
  {
   "cell_type": "code",
   "execution_count": 1,
   "id": "77a64cdc",
   "metadata": {},
   "outputs": [
    {
     "name": "stdout",
     "output_type": "stream",
     "text": [
      "Collecting osmnx\n",
      "  Using cached osmnx-1.2.2-py2.py3-none-any.whl (92 kB)\n",
      "Requirement already satisfied: numpy>=1.22 in c:\\users\\genet shanko\\anaconda3\\lib\\site-packages (from osmnx) (1.23.4)\n",
      "Collecting geopandas>=0.11\n",
      "  Using cached geopandas-0.11.1-py3-none-any.whl (1.0 MB)\n",
      "Requirement already satisfied: matplotlib>=3.5 in c:\\users\\genet shanko\\anaconda3\\lib\\site-packages (from osmnx) (3.5.1)\n",
      "Requirement already satisfied: Rtree>=1.0 in c:\\users\\genet shanko\\anaconda3\\lib\\site-packages (from osmnx) (1.0.1)\n",
      "Collecting networkx>=2.8\n",
      "  Using cached networkx-2.8.7-py3-none-any.whl (2.0 MB)\n",
      "Requirement already satisfied: Shapely<2.0,>=1.8 in c:\\users\\genet shanko\\anaconda3\\lib\\site-packages (from osmnx) (1.8.5.post1)\n",
      "Requirement already satisfied: requests>=2.28 in c:\\users\\genet shanko\\anaconda3\\lib\\site-packages (from osmnx) (2.28.1)\n",
      "Requirement already satisfied: pyproj>=3.3 in c:\\users\\genet shanko\\anaconda3\\lib\\site-packages (from osmnx) (3.4.0)\n",
      "Requirement already satisfied: pandas>=1.4 in c:\\users\\genet shanko\\anaconda3\\lib\\site-packages (from osmnx) (1.4.2)\n",
      "Collecting fiona>=1.8\n",
      "  Using cached Fiona-1.8.22-cp39-cp39-win_amd64.whl (21.7 MB)\n",
      "Requirement already satisfied: packaging in c:\\users\\genet shanko\\anaconda3\\lib\\site-packages (from geopandas>=0.11->osmnx) (21.3)\n",
      "Requirement already satisfied: python-dateutil>=2.7 in c:\\users\\genet shanko\\anaconda3\\lib\\site-packages (from matplotlib>=3.5->osmnx) (2.8.2)\n",
      "Requirement already satisfied: kiwisolver>=1.0.1 in c:\\users\\genet shanko\\anaconda3\\lib\\site-packages (from matplotlib>=3.5->osmnx) (1.3.2)\n",
      "Requirement already satisfied: pillow>=6.2.0 in c:\\users\\genet shanko\\anaconda3\\lib\\site-packages (from matplotlib>=3.5->osmnx) (9.0.1)\n",
      "Requirement already satisfied: cycler>=0.10 in c:\\users\\genet shanko\\anaconda3\\lib\\site-packages (from matplotlib>=3.5->osmnx) (0.11.0)\n",
      "Requirement already satisfied: pyparsing>=2.2.1 in c:\\users\\genet shanko\\anaconda3\\lib\\site-packages (from matplotlib>=3.5->osmnx) (3.0.4)\n",
      "Requirement already satisfied: fonttools>=4.22.0 in c:\\users\\genet shanko\\anaconda3\\lib\\site-packages (from matplotlib>=3.5->osmnx) (4.25.0)\n",
      "Requirement already satisfied: pytz>=2020.1 in c:\\users\\genet shanko\\anaconda3\\lib\\site-packages (from pandas>=1.4->osmnx) (2021.3)\n",
      "Requirement already satisfied: certifi in c:\\users\\genet shanko\\anaconda3\\lib\\site-packages (from pyproj>=3.3->osmnx) (2021.10.8)\n",
      "Requirement already satisfied: idna<4,>=2.5 in c:\\users\\genet shanko\\anaconda3\\lib\\site-packages (from requests>=2.28->osmnx) (2.10)\n",
      "Requirement already satisfied: charset-normalizer<3,>=2 in c:\\users\\genet shanko\\anaconda3\\lib\\site-packages (from requests>=2.28->osmnx) (2.0.4)\n",
      "Requirement already satisfied: urllib3<1.27,>=1.21.1 in c:\\users\\genet shanko\\anaconda3\\lib\\site-packages (from requests>=2.28->osmnx) (1.26.9)\n",
      "Requirement already satisfied: setuptools in c:\\users\\genet shanko\\anaconda3\\lib\\site-packages (from fiona>=1.8->geopandas>=0.11->osmnx) (61.2.0)\n",
      "Requirement already satisfied: click>=4.0 in c:\\users\\genet shanko\\anaconda3\\lib\\site-packages (from fiona>=1.8->geopandas>=0.11->osmnx) (7.1.2)\n",
      "Collecting munch\n",
      "  Using cached munch-2.5.0-py2.py3-none-any.whl (10 kB)\n",
      "Requirement already satisfied: click-plugins>=1.0 in c:\\users\\genet shanko\\anaconda3\\lib\\site-packages (from fiona>=1.8->geopandas>=0.11->osmnx) (1.1.1)\n",
      "Requirement already satisfied: attrs>=17 in c:\\users\\genet shanko\\anaconda3\\lib\\site-packages (from fiona>=1.8->geopandas>=0.11->osmnx) (21.4.0)\n",
      "Requirement already satisfied: six>=1.7 in c:\\users\\genet shanko\\anaconda3\\lib\\site-packages (from fiona>=1.8->geopandas>=0.11->osmnx) (1.16.0)\n",
      "Collecting cligj>=0.5\n",
      "  Using cached cligj-0.7.2-py3-none-any.whl (7.1 kB)\n",
      "Installing collected packages: networkx, munch, cligj, fiona, geopandas, osmnx\n",
      "  Attempting uninstall: networkx\n",
      "    Found existing installation: networkx 2.7.1\n",
      "    Uninstalling networkx-2.7.1:\n",
      "      Successfully uninstalled networkx-2.7.1\n",
      "Successfully installed cligj-0.7.2 fiona-1.8.22 geopandas-0.11.1 munch-2.5.0 networkx-2.8.7 osmnx-1.2.2\n",
      "Note: you may need to restart the kernel to use updated packages.\n"
     ]
    }
   ],
   "source": [
    "pip install osmnx"
   ]
  },
  {
   "cell_type": "code",
   "execution_count": 9,
   "id": "6da60daa",
   "metadata": {},
   "outputs": [
    {
     "name": "stdout",
     "output_type": "stream",
     "text": [
      "Collecting landscapes\n",
      "  Downloading landscapes-0.0.12-py3-none-any.whl (15 kB)\n",
      "Installing collected packages: landscapes\n",
      "Successfully installed landscapes-0.0.12\n",
      "Note: you may need to restart the kernel to use updated packages.\n"
     ]
    }
   ],
   "source": [
    "pip install landscapes"
   ]
  },
  {
   "cell_type": "code",
   "execution_count": 10,
   "id": "e794f0c7",
   "metadata": {},
   "outputs": [
    {
     "name": "stderr",
     "output_type": "stream",
     "text": [
      "C:\\Users\\Genet Shanko\\anaconda3\\lib\\site-packages\\osmnx\\utils.py:192: UserWarning: The `utils.config` function is deprecated and will be removed in a future release. Instead, use the `settings` module directly to configure a global setting's value. For example, `ox.settings.log_console=True`.\n",
      "  warnings.warn(\n"
     ]
    },
    {
     "ename": "AttributeError",
     "evalue": "module 'osmnx' has no attribute 'get_nearest_node'",
     "output_type": "error",
     "traceback": [
      "\u001b[1;31m---------------------------------------------------------------------------\u001b[0m",
      "\u001b[1;31mAttributeError\u001b[0m                            Traceback (most recent call last)",
      "Input \u001b[1;32mIn [10]\u001b[0m, in \u001b[0;36m<cell line: 17>\u001b[1;34m()\u001b[0m\n\u001b[0;32m     15\u001b[0m graph \u001b[38;5;241m=\u001b[39m ox\u001b[38;5;241m.\u001b[39mgraph_from_place(place, network_type \u001b[38;5;241m=\u001b[39m mode)\n\u001b[0;32m     16\u001b[0m \u001b[38;5;66;03m# find the nearest node to the start location\u001b[39;00m\n\u001b[1;32m---> 17\u001b[0m orig_node \u001b[38;5;241m=\u001b[39m \u001b[43mox\u001b[49m\u001b[38;5;241;43m.\u001b[39;49m\u001b[43mget_nearest_node\u001b[49m(graph, start_latlng)\n\u001b[0;32m     18\u001b[0m \u001b[38;5;66;03m# find the nearest node to the end location\u001b[39;00m\n\u001b[0;32m     19\u001b[0m dest_node \u001b[38;5;241m=\u001b[39m ox\u001b[38;5;241m.\u001b[39mget_nearest_node(graph, end_latlng)\n",
      "\u001b[1;31mAttributeError\u001b[0m: module 'osmnx' has no attribute 'get_nearest_node'"
     ]
    }
   ],
   "source": [
    "import osmnx as ox\n",
    "import networkx as nx\n",
    "ox.config(log_console=True, use_cache=True)\n",
    "# define the start and end locations in latlng\n",
    "start_latlng = (37.78497,-122.43327)\n",
    "end_latlng = (37.78071,-122.41445)\n",
    "# location where you want to find your route\n",
    "place     = 'San Francisco, California, United States'\n",
    "# find shortest route based on the mode of travel\n",
    "mode      = 'walk'        # 'drive', 'bike', 'walk'\n",
    "# find shortest path based on distance or time\n",
    "optimizer = 'time'        # 'length','time'\n",
    "# create graph from OSM within the boundaries of some \n",
    "# geocodable place(s)\n",
    "graph = ox.graph_from_place(place, network_type = mode)\n",
    "# find the nearest node to the start location\n",
    "orig_node = ox.get_nearest_node(graph, start_latlng)\n",
    "# find the nearest node to the end location\n",
    "dest_node = ox.get_nearest_node(graph, end_latlng)\n",
    "#  find the shortest path\n",
    "shortest_route = nx.shortest_path(graph,\n",
    "                                  orig_node,\n",
    "                                  dest_node,\n",
    "                                  weight=optimizer)"
   ]
  },
  {
   "cell_type": "code",
   "execution_count": null,
   "id": "2b6a56b3",
   "metadata": {},
   "outputs": [],
   "source": []
  },
  {
   "cell_type": "code",
   "execution_count": null,
   "id": "5335b127",
   "metadata": {},
   "outputs": [],
   "source": []
  },
  {
   "cell_type": "markdown",
   "id": "86c07931",
   "metadata": {},
   "source": [
    "# Plotting the Paths"
   ]
  },
  {
   "cell_type": "code",
   "execution_count": 5,
   "id": "6ee600ab",
   "metadata": {},
   "outputs": [
    {
     "ename": "NameError",
     "evalue": "name 'shortest_route' is not defined",
     "output_type": "error",
     "traceback": [
      "\u001b[1;31m---------------------------------------------------------------------------\u001b[0m",
      "\u001b[1;31mNameError\u001b[0m                                 Traceback (most recent call last)",
      "Input \u001b[1;32mIn [5]\u001b[0m, in \u001b[0;36m<cell line: 1>\u001b[1;34m()\u001b[0m\n\u001b[1;32m----> 1\u001b[0m shortest_route_map \u001b[38;5;241m=\u001b[39m ox\u001b[38;5;241m.\u001b[39mplot_route_folium(graph, \u001b[43mshortest_route\u001b[49m)\n\u001b[0;32m      2\u001b[0m shortest_route_map\n",
      "\u001b[1;31mNameError\u001b[0m: name 'shortest_route' is not defined"
     ]
    }
   ],
   "source": [
    "shortest_route_map = ox.plot_route_folium(graph, shortest_route)\n",
    "shortest_route_map"
   ]
  },
  {
   "cell_type": "code",
   "execution_count": 6,
   "id": "d1322303",
   "metadata": {},
   "outputs": [
    {
     "ename": "NameError",
     "evalue": "name 'shortest_route' is not defined",
     "output_type": "error",
     "traceback": [
      "\u001b[1;31m---------------------------------------------------------------------------\u001b[0m",
      "\u001b[1;31mNameError\u001b[0m                                 Traceback (most recent call last)",
      "Input \u001b[1;32mIn [6]\u001b[0m, in \u001b[0;36m<cell line: 1>\u001b[1;34m()\u001b[0m\n\u001b[1;32m----> 1\u001b[0m shortest_route_map \u001b[38;5;241m=\u001b[39m ox\u001b[38;5;241m.\u001b[39mplot_route_folium(graph, \u001b[43mshortest_route\u001b[49m, \n\u001b[0;32m      2\u001b[0m                                           tiles\u001b[38;5;241m=\u001b[39m\u001b[38;5;124m'\u001b[39m\u001b[38;5;124mopenstreetmap\u001b[39m\u001b[38;5;124m'\u001b[39m)\n\u001b[0;32m      3\u001b[0m shortest_route_map\n",
      "\u001b[1;31mNameError\u001b[0m: name 'shortest_route' is not defined"
     ]
    }
   ],
   "source": [
    "shortest_route_map = ox.plot_route_folium(graph, shortest_route, \n",
    "                                          tiles='openstreetmap')\n",
    "shortest_route_map"
   ]
  },
  {
   "cell_type": "code",
   "execution_count": 8,
   "id": "ebaa2a22",
   "metadata": {},
   "outputs": [
    {
     "ename": "ModuleNotFoundError",
     "evalue": "No module named 'folium'",
     "output_type": "error",
     "traceback": [
      "\u001b[1;31m---------------------------------------------------------------------------\u001b[0m",
      "\u001b[1;31mModuleNotFoundError\u001b[0m                       Traceback (most recent call last)",
      "Input \u001b[1;32mIn [8]\u001b[0m, in \u001b[0;36m<cell line: 1>\u001b[1;34m()\u001b[0m\n\u001b[1;32m----> 1\u001b[0m \u001b[38;5;28;01mimport\u001b[39;00m \u001b[38;5;21;01mfolium\u001b[39;00m\n\u001b[0;32m      2\u001b[0m folium\u001b[38;5;241m.\u001b[39mTileLayer(\u001b[38;5;124m'\u001b[39m\u001b[38;5;124mopenstreetmap\u001b[39m\u001b[38;5;124m'\u001b[39m)\u001b[38;5;241m.\u001b[39madd_to(shortest_route_map)\n\u001b[0;32m      3\u001b[0m folium\u001b[38;5;241m.\u001b[39mTileLayer(\u001b[38;5;124m'\u001b[39m\u001b[38;5;124mStamen Terrain\u001b[39m\u001b[38;5;124m'\u001b[39m)\u001b[38;5;241m.\u001b[39madd_to(shortest_route_map)\n",
      "\u001b[1;31mModuleNotFoundError\u001b[0m: No module named 'folium'"
     ]
    }
   ],
   "source": [
    "import folium\n",
    "folium.TileLayer('openstreetmap').add_to(shortest_route_map)\n",
    "folium.TileLayer('Stamen Terrain').add_to(shortest_route_map)\n",
    "folium.TileLayer('Stamen Toner').add_to(shortest_route_map)\n",
    "folium.TileLayer('Stamen Water Color').add_to(shortest_route_map)\n",
    "folium.TileLayer('cartodbpositron').add_to(shortest_route_map)\n",
    "folium.TileLayer('cartodbdark_matter').add_to(shortest_route_map)\n",
    "folium.LayerControl().add_to(shortest_route_map)\n",
    "shortest_route_map"
   ]
  },
  {
   "cell_type": "markdown",
   "id": "34283517",
   "metadata": {},
   "source": [
    "# Geocoding Your Locations"
   ]
  },
  {
   "cell_type": "code",
   "execution_count": 4,
   "id": "e9131fca",
   "metadata": {},
   "outputs": [
    {
     "name": "stdout",
     "output_type": "stream",
     "text": [
      "Requirement already satisfied: geopy in c:\\users\\genet shanko\\anaconda3\\lib\\site-packages (2.2.0)\n",
      "Requirement already satisfied: geographiclib<2,>=1.49 in c:\\users\\genet shanko\\anaconda3\\lib\\site-packages (from geopy) (1.52)\n",
      "Note: you may need to restart the kernel to use updated packages.\n"
     ]
    }
   ],
   "source": [
    "pip install geopy"
   ]
  },
  {
   "cell_type": "code",
   "execution_count": 11,
   "id": "1e21ae32",
   "metadata": {},
   "outputs": [
    {
     "name": "stdout",
     "output_type": "stream",
     "text": [
      "37.8302731 -122.4798443\n",
      "37 49m 48.9832s N, 122 28m 47.4395s W\n",
      "<class 'geopy.point.Point'>\n"
     ]
    }
   ],
   "source": [
    "from geopy.geocoders import Nominatim\n",
    "locator = Nominatim(user_agent = \"myapp\")\n",
    "location = locator.geocode(\"Golden Gate Bridge\")\n",
    "print(location.latitude, location.longitude)\n",
    "# 37.8303213 -122.4797496\n",
    "print(location.point)\n",
    "# 37 49m 49.1567s N, 122 28m 47.0986s W\n",
    "print(type(location.point))\n",
    "# <class 'geopy.point.Point'>"
   ]
  },
  {
   "cell_type": "code",
   "execution_count": 12,
   "id": "62f0bf67",
   "metadata": {},
   "outputs": [
    {
     "name": "stderr",
     "output_type": "stream",
     "text": [
      "C:\\Users\\Genet Shanko\\anaconda3\\lib\\site-packages\\osmnx\\utils.py:192: UserWarning: The `utils.config` function is deprecated and will be removed in a future release. Instead, use the `settings` module directly to configure a global setting's value. For example, `ox.settings.log_console=True`.\n",
      "  warnings.warn(\n"
     ]
    },
    {
     "ename": "AttributeError",
     "evalue": "module 'osmnx' has no attribute 'get_nearest_node'",
     "output_type": "error",
     "traceback": [
      "\u001b[1;31m---------------------------------------------------------------------------\u001b[0m",
      "\u001b[1;31mAttributeError\u001b[0m                            Traceback (most recent call last)",
      "Input \u001b[1;32mIn [12]\u001b[0m, in \u001b[0;36m<cell line: 24>\u001b[1;34m()\u001b[0m\n\u001b[0;32m     22\u001b[0m graph \u001b[38;5;241m=\u001b[39m ox\u001b[38;5;241m.\u001b[39mgraph_from_place(place, network_type \u001b[38;5;241m=\u001b[39m mode)\n\u001b[0;32m     23\u001b[0m \u001b[38;5;66;03m# find the nearest node to the start location\u001b[39;00m\n\u001b[1;32m---> 24\u001b[0m orig_node \u001b[38;5;241m=\u001b[39m \u001b[43mox\u001b[49m\u001b[38;5;241;43m.\u001b[39;49m\u001b[43mget_nearest_node\u001b[49m(graph, start_latlng)\n\u001b[0;32m     25\u001b[0m \u001b[38;5;66;03m# find the nearest node to the end location\u001b[39;00m\n\u001b[0;32m     26\u001b[0m dest_node \u001b[38;5;241m=\u001b[39m ox\u001b[38;5;241m.\u001b[39mget_nearest_node(graph, end_latlng)\n",
      "\u001b[1;31mAttributeError\u001b[0m: module 'osmnx' has no attribute 'get_nearest_node'"
     ]
    }
   ],
   "source": [
    "import osmnx as ox\n",
    "import networkx as nx\n",
    "ox.config(log_console=True, use_cache=True)\n",
    "from geopy.geocoders import Nominatim\n",
    "locator = Nominatim(user_agent = \"myapp\")\n",
    "# define the start and end locations in latlng\n",
    "# start_latlng = (37.78497,-122.43327)\n",
    "# end_latlng = (37.78071,-122.41445)\n",
    "start_location = \"Hilton San Francisco Union Square\"\n",
    "end_location = \"Golden Gateway Tennis & Swim Club\"\n",
    "# stores the start and end points as geopy.point.Point objects\n",
    "start_latlng = locator.geocode(start_location).point\n",
    "end_latlng = locator.geocode(end_location).point\n",
    "# location where you want to find your route\n",
    "place     = 'San Francisco, California, United States'\n",
    "# find shortest route based on the mode of travel\n",
    "mode      = 'bike'       # 'drive', 'bike', 'walk'\n",
    "# find shortest path based on distance or time\n",
    "optimizer = 'length'        # 'length','time'\n",
    "# create graph from OSM within the boundaries of some \n",
    "# geocodable place(s)\n",
    "graph = ox.graph_from_place(place, network_type = mode)\n",
    "# find the nearest node to the start location\n",
    "orig_node = ox.get_nearest_node(graph, start_latlng)\n",
    "# find the nearest node to the end location\n",
    "dest_node = ox.get_nearest_node(graph, end_latlng)\n",
    "..."
   ]
  },
  {
   "cell_type": "code",
   "execution_count": 14,
   "id": "36f41f5d",
   "metadata": {},
   "outputs": [
    {
     "ename": "ModuleNotFoundError",
     "evalue": "No module named 'folium'",
     "output_type": "error",
     "traceback": [
      "\u001b[1;31m---------------------------------------------------------------------------\u001b[0m",
      "\u001b[1;31mModuleNotFoundError\u001b[0m                       Traceback (most recent call last)",
      "Input \u001b[1;32mIn [14]\u001b[0m, in \u001b[0;36m<cell line: 1>\u001b[1;34m()\u001b[0m\n\u001b[1;32m----> 1\u001b[0m \u001b[38;5;28;01mimport\u001b[39;00m \u001b[38;5;21;01mfolium\u001b[39;00m\n\u001b[0;32m      2\u001b[0m \u001b[38;5;66;03m# Marker class only accepts coordinates in tuple form\u001b[39;00m\n\u001b[0;32m      3\u001b[0m start_latlng \u001b[38;5;241m=\u001b[39m (start_latlng[\u001b[38;5;241m0\u001b[39m],start_latlng[\u001b[38;5;241m1\u001b[39m])\n",
      "\u001b[1;31mModuleNotFoundError\u001b[0m: No module named 'folium'"
     ]
    }
   ],
   "source": [
    "import folium\n",
    "# Marker class only accepts coordinates in tuple form\n",
    "start_latlng = (start_latlng[0],start_latlng[1])\n",
    "end_latlng   = (end_latlng[0],end_latlng[1])\n",
    "start_marker = folium.Marker(\n",
    "            location = start_latlng,\n",
    "            popup = start_location,\n",
    "            icon = folium.Icon(color='green'))\n",
    "end_marker = folium.Marker(\n",
    "            location = end_latlng,\n",
    "            popup = end_location,\n",
    "            icon = folium.Icon(color='red'))\n",
    "# add the circle marker to the map\n",
    "start_marker.add_to(shortest_route_map)\n",
    "end_marker.add_to(shortest_route_map)\n",
    "shortest_route_map"
   ]
  },
  {
   "cell_type": "markdown",
   "id": "92fd2491",
   "metadata": {},
   "source": [
    "# Plotting a Static Graph"
   ]
  },
  {
   "cell_type": "code",
   "execution_count": 13,
   "id": "5f0f0c14",
   "metadata": {},
   "outputs": [
    {
     "ename": "NameError",
     "evalue": "name 'shortest_route' is not defined",
     "output_type": "error",
     "traceback": [
      "\u001b[1;31m---------------------------------------------------------------------------\u001b[0m",
      "\u001b[1;31mNameError\u001b[0m                                 Traceback (most recent call last)",
      "Input \u001b[1;32mIn [13]\u001b[0m, in \u001b[0;36m<cell line: 1>\u001b[1;34m()\u001b[0m\n\u001b[1;32m----> 1\u001b[0m shortest_route_map \u001b[38;5;241m=\u001b[39m ox\u001b[38;5;241m.\u001b[39mplot_route_folium(graph, \u001b[43mshortest_route\u001b[49m)\n\u001b[0;32m      2\u001b[0m shortest_route_map\n",
      "\u001b[1;31mNameError\u001b[0m: name 'shortest_route' is not defined"
     ]
    }
   ],
   "source": [
    "shortest_route_map = ox.plot_route_folium(graph, shortest_route)\n",
    "shortest_route_map"
   ]
  },
  {
   "cell_type": "code",
   "execution_count": 15,
   "id": "42de0297",
   "metadata": {},
   "outputs": [
    {
     "name": "stderr",
     "output_type": "stream",
     "text": [
      "C:\\Users\\Genet Shanko\\anaconda3\\lib\\site-packages\\osmnx\\utils.py:192: UserWarning: The `utils.config` function is deprecated and will be removed in a future release. Instead, use the `settings` module directly to configure a global setting's value. For example, `ox.settings.log_console=True`.\n",
      "  warnings.warn(\n"
     ]
    },
    {
     "ename": "AttributeError",
     "evalue": "module 'osmnx' has no attribute 'get_nearest_node'",
     "output_type": "error",
     "traceback": [
      "\u001b[1;31m---------------------------------------------------------------------------\u001b[0m",
      "\u001b[1;31mAttributeError\u001b[0m                            Traceback (most recent call last)",
      "Input \u001b[1;32mIn [15]\u001b[0m, in \u001b[0;36m<cell line: 5>\u001b[1;34m()\u001b[0m\n\u001b[0;32m      3\u001b[0m ox\u001b[38;5;241m.\u001b[39mconfig(log_console\u001b[38;5;241m=\u001b[39m\u001b[38;5;28;01mTrue\u001b[39;00m, use_cache\u001b[38;5;241m=\u001b[39m\u001b[38;5;28;01mTrue\u001b[39;00m)\n\u001b[0;32m      4\u001b[0m graph \u001b[38;5;241m=\u001b[39m ox\u001b[38;5;241m.\u001b[39mgraph_from_place(place, network_type \u001b[38;5;241m=\u001b[39m mode)\n\u001b[1;32m----> 5\u001b[0m orig_node \u001b[38;5;241m=\u001b[39m \u001b[43mox\u001b[49m\u001b[38;5;241;43m.\u001b[39;49m\u001b[43mget_nearest_node\u001b[49m(graph, start_latlng)\n\u001b[0;32m      6\u001b[0m dest_node \u001b[38;5;241m=\u001b[39m ox\u001b[38;5;241m.\u001b[39mget_nearest_node(graph, end_latlng)\n\u001b[0;32m      7\u001b[0m shortest_route \u001b[38;5;241m=\u001b[39m nx\u001b[38;5;241m.\u001b[39mshortest_path(graph, \n\u001b[0;32m      8\u001b[0m                                   orig_node, \n\u001b[0;32m      9\u001b[0m                                   dest_node, \n\u001b[0;32m     10\u001b[0m                                   weight\u001b[38;5;241m=\u001b[39moptimizer)\n",
      "\u001b[1;31mAttributeError\u001b[0m: module 'osmnx' has no attribute 'get_nearest_node'"
     ]
    }
   ],
   "source": [
    "import osmnx as ox\n",
    "import networkx as nx\n",
    "ox.config(log_console=True, use_cache=True)\n",
    "graph = ox.graph_from_place(place, network_type = mode)\n",
    "orig_node = ox.get_nearest_node(graph, start_latlng)\n",
    "dest_node = ox.get_nearest_node(graph, end_latlng)\n",
    "shortest_route = nx.shortest_path(graph, \n",
    "                                  orig_node, \n",
    "                                  dest_node, \n",
    "                                  weight=optimizer)\n",
    "fig, ax = ox.plot_graph_route(graph,\n",
    "                              shortest_route,\n",
    "                              save=True)"
   ]
  },
  {
   "cell_type": "code",
   "execution_count": null,
   "id": "dd973e48",
   "metadata": {},
   "outputs": [],
   "source": []
  }
 ],
 "metadata": {
  "kernelspec": {
   "display_name": "Python 3 (ipykernel)",
   "language": "python",
   "name": "python3"
  },
  "language_info": {
   "codemirror_mode": {
    "name": "ipython",
    "version": 3
   },
   "file_extension": ".py",
   "mimetype": "text/x-python",
   "name": "python",
   "nbconvert_exporter": "python",
   "pygments_lexer": "ipython3",
   "version": "3.9.12"
  }
 },
 "nbformat": 4,
 "nbformat_minor": 5
}
