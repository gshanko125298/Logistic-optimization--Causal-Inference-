{
 "cells": [
  {
   "cell_type": "code",
   "execution_count": null,
   "metadata": {},
   "outputs": [],
   "source": [
    "import pickle\n",
    "import datetime\n",
    "import numpy as np\n",
    "import pandas as pd\n",
    "import seaborn as sns\n",
    "import matplotlib.pyplot as plt\n",
    "from ann import ANNRegressor_model\n",
    "from sklearn.preprocessing import StandardScaler\n",
    "from sklearn.metrics import mean_absolute_error as MAE"
   ]
  },
  {
   "cell_type": "markdown",
   "metadata": {},
   "source": [
    "Function - Preprocess & feature engineering"
   ]
  },
  {
   "cell_type": "code",
   "execution_count": null,
   "metadata": {},
   "outputs": [],
   "source": [
    "# Set the parameter 'training' to True if the label exists\n",
    "\n",
    "def preprocess_featureengineering(df, training):\n",
    "    \n",
    "    # Identify and handle null items\n",
    "    if training: # The label is only available in training\n",
    "        idx_null = np.where(df['Delivery Time (days)'].isnull()==1)[0]\n",
    "        df.drop(idx_null, axis=0, inplace=True) # Remove the samples without the labels\n",
    "        df.reset_index(drop=True, inplace=True) # Reset index\n",
    "    df.fillna('0', inplace=True) # Fill null item with '0' for attribute 'Order Type'\n",
    "    \n",
    "    # Feature engineering with attribute 'Order Create Date'\n",
    "    df['Month'] = df['Order Create Date'].apply(lambda x: x.month)\n",
    "    df['Day'] = df['Order Create Date'].apply(lambda x: x.day)\n",
    "    df['Weekend'] = df['Order Create Date'].apply(lambda x: 1 if x.weekday() >=5 else 0)    \n",
    "    \n",
    "       \n",
    "    # One hot encode categorical attributes\n",
    "    columns_categorical = [['Order ID', 'driver_ID', \n",
    "                         'Trip_ID', 'Trip_origin', 'Trip_ditination', \n",
    "                         'Trip Start Time', 'Trip End Time']\n",
    "    df = pd.get_dummies(df, columns=columns_categorical, drop_first=True)\n",
    "    \n",
    "    # Create important attributes/ selected features if it is missing from the current dataset\n",
    "    # Assign value to be zeros\n",
    "    for selected_feature in selected_features:\n",
    "        if selected_feature not in df.columns.tolist():\n",
    "            df[selected_feature] = 0   \n",
    "    \n",
    "    return df\n",
    "\n",
    "Function - Standardization of numerical features\n"
   ]
  },
  {
   "cell_type": "code",
   "execution_count": null,
   "metadata": {},
   "outputs": [],
   "source": [
    "def standardize(df, training):\n",
    "    \n",
    "    # Standardization of delivery time and order product quantity\n",
    "    x_categorical = df[selected_features].drop('Order_ID', axis=1, inplace=False).values\n",
    "    x_numerical = df['Driver_ID'].values\n",
    "    x_numerical = quantity_scaler.transform(np.expand_dims(x_numerical, axis=1))\n",
    "    x_test = np.concatenate((x_categorical, x_numerical), axis=1)\n",
    "    \n",
    "    if training:\n",
    "        y = df['Delivery Time (days)']\n",
    "        y_test = deliverytime_scaler.transform(np.expand_dims(y, axis=1))\n",
    "        # return scaled features/ attributes and labels\n",
    "        return x_test, y_test\n",
    "    \n",
    "    return x_test"
   ]
  },
  {
   "cell_type": "code",
   "execution_count": null,
   "metadata": {},
   "outputs": [],
   "source": [
    "Function - Execution pipeline"
   ]
  },
  {
   "cell_type": "code",
   "execution_count": null,
   "metadata": {},
   "outputs": [],
   "source": [
    "def execution_pipeline(df, training):\n",
    "    \n",
    "    df = preprocess_featureengineering(df, training)\n",
    "    \n",
    "    # Predict and save results and evaluation metrics\n",
    "    x_test, y_test = standardize(df, training) # Scaled features & labels\n",
    "    y_test_pred = model.predict(x_test) # rounded unscaled prediction time in days\n",
    "    \n",
    "    # Note that the prediction return is unscaled while the actual needs to be scaled back\n",
    "    result = pd.DataFrame({'Predicted': np.squeeze(y_test_pred), \n",
    "                           'Actual': np.squeeze(deliverytime_scaler.inverse_transform(y_test))})\n",
    "    print(result.head(), '\\n')\n",
    "    mae, percentage_delayed_delivery = model.evaluate(x_test, y_test, plot=False)\n",
    "    \n",
    "    \n",
    "    with open('result.pkl', 'wb') as file:\n",
    "        pickle.dump([result, mae, percentage_delayed_delivery], file)    "
   ]
  },
  {
   "cell_type": "code",
   "execution_count": null,
   "metadata": {},
   "outputs": [],
   "source": [
    "model = ANNRegressor_model(units, num_features, quantile, \n",
    "                           file_dir, epochs, batch_size,\n",
    "                           deliverytime_scaler)"
   ]
  },
  {
   "cell_type": "code",
   "execution_count": null,
   "metadata": {},
   "outputs": [],
   "source": [
    "if __name__ == '__main__':\n",
    "    \n",
    "    # Read file and preprocess & feature engineer\n",
    "    df = pd.read_excel('data_test.xlsx')\n",
    "    \n",
    "    # Set the parameter 'training' to True if the label exists\n",
    "    training = True\n",
    "    \n",
    "    # Execution pipeline\n",
    "    execution_pipeline(df, training)"
   ]
  }
 ],
 "metadata": {
  "language_info": {
   "name": "python"
  },
  "orig_nbformat": 4
 },
 "nbformat": 4,
 "nbformat_minor": 2
}
