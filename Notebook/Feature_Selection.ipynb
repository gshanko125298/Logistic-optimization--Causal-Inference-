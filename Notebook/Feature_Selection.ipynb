{
 "cells": [
  {
   "cell_type": "code",
   "execution_count": 1,
   "id": "87e061e2",
   "metadata": {},
   "outputs": [
    {
     "name": "stdout",
     "output_type": "stream",
     "text": [
      "Start time: 02:13:57\n",
      "End time: 11:46:38\n",
      "Time difference is 34361.0 seconds\n",
      "Time difference is 34361000.0 milliseconds\n"
     ]
    }
   ],
   "source": [
    "from datetime import datetime\n",
    "\n",
    "# start time\n",
    "start_time = \"2:13:57\"\n",
    "end_time = \"11:46:38\"\n",
    "\n",
    "# convert time string to datetime\n",
    "t1 = datetime.strptime(start_time, \"%H:%M:%S\")\n",
    "print('Start time:', t1.time())\n",
    "\n",
    "t2 = datetime.strptime(end_time, \"%H:%M:%S\")\n",
    "print('End time:', t2.time())\n",
    "\n",
    "# get difference\n",
    "delta = t2 - t1\n",
    "\n",
    "# time difference in seconds\n",
    "print(f\"Time difference is {delta.total_seconds()} seconds\")\n",
    "\n",
    "# time difference in milliseconds\n",
    "ms = delta.total_seconds() * 1000\n",
    "print(f\"Time difference is {ms} milliseconds\")"
   ]
  },
  {
   "cell_type": "code",
   "execution_count": 3,
   "id": "27aac119",
   "metadata": {},
   "outputs": [],
   "source": [
    "import numpy as np\n",
    "import pandas as pd\n",
    "import matplotlib.pyplot as plt\n",
    "%matplotlib inline\n",
    "import seaborn as sns\n",
    "sns.set_style(\"whitegrid\")\n",
    "import plotly \n",
    "import plotly.graph_objs as go\n",
    "import chart_studio.plotly as py\n",
    "#import plotly.plotly as py\n",
    "import sklearn\n",
    "from sklearn.model_selection import train_test_split\n",
    "import warnings\n",
    "warnings.filterwarnings(\"ignore\")"
   ]
  },
  {
   "cell_type": "code",
   "execution_count": null,
   "id": "347a0ef2",
   "metadata": {},
   "outputs": [],
   "source": [
    "df2 = pd.read_csv(r\"C:\\Users\\Genet Shanko\\Logistic_optim_Data\\nb.csv\")\n",
    "df2.head()"
   ]
  },
  {
   "cell_type": "code",
   "execution_count": null,
   "id": "bba959d6",
   "metadata": {},
   "outputs": [],
   "source": [
    "df = pd.read_csv(r\"C:\\Users\\Genet Shanko\\Logistic_optim_Data\\driver_locations_during_request.csv\")\n",
    "df.head()"
   ]
  },
  {
   "cell_type": "code",
   "execution_count": null,
   "id": "994678af",
   "metadata": {},
   "outputs": [],
   "source": [
    "df_merge=df.merge(df2, left_on='order_id', right_on='Trip ID')\n",
    "df_merge.head()"
   ]
  },
  {
   "cell_type": "code",
   "execution_count": 7,
   "id": "0eca5149",
   "metadata": {},
   "outputs": [
    {
     "name": "stdout",
     "output_type": "stream",
     "text": [
      "Start time: 06:38:04\n",
      "End time: 07:07:28\n",
      "Time difference is 1764.0 seconds\n",
      "Time difference is 1764000.0 milliseconds\n"
     ]
    }
   ],
   "source": [
    "from datetime import datetime\n",
    "\n",
    "# start time\n",
    "start_time = \"06:38:04\"\n",
    "end_time = \"07:07:28\"\n",
    "\n",
    "# convert time string to datetime\n",
    "t1 = datetime.strptime(start_time, \"%H:%M:%S\")\n",
    "print('Start time:', t1.time())\n",
    "\n",
    "t2 = datetime.strptime(end_time, \"%H:%M:%S\")\n",
    "print('End time:', t2.time())\n",
    "\n",
    "# get difference\n",
    "delta = t2 - t1\n",
    "\n",
    "# time difference in seconds\n",
    "print(f\"Time difference is {delta.total_seconds()} seconds\")\n",
    "\n",
    "# time difference in milliseconds\n",
    "ms = delta.total_seconds() * 1000\n",
    "print(f\"Time difference is {ms} milliseconds\")"
   ]
  },
  {
   "cell_type": "code",
   "execution_count": 9,
   "id": "070bf373",
   "metadata": {},
   "outputs": [
    {
     "name": "stdout",
     "output_type": "stream",
     "text": [
      "difference in seconds: 2481.0\n",
      "difference in minutes: 41.35\n",
      "difference in hours: 0.6891666666666667\n"
     ]
    }
   ],
   "source": [
    "from datetime import datetime\n",
    "\n",
    "# start time and end time\n",
    "start_time = datetime.strptime(\"06:21:02\", \"%H:%M:%S\")\n",
    "end_time = datetime.strptime(\"07:02:23\", \"%H:%M:%S\")\n",
    "\n",
    "# get difference\n",
    "delta = end_time - start_time\n",
    "\n",
    "sec = delta.total_seconds()\n",
    "print('difference in seconds:', sec)\n",
    "\n",
    "min = sec / 60\n",
    "print('difference in minutes:', min)\n",
    "\n",
    "# get difference in hours\n",
    "hours = sec / (60 * 60)\n",
    "print('difference in hours:', hours)"
   ]
  },
  {
   "cell_type": "code",
   "execution_count": 23,
   "id": "4d128980",
   "metadata": {},
   "outputs": [
    {
     "name": "stdout",
     "output_type": "stream",
     "text": [
      "Collecting graphvizNote: you may need to restart the kernel to use updated packages.\n",
      "  Using cached graphviz-0.20.1-py3-none-any.whl (47 kB)\n",
      "Installing collected packages: graphviz\n",
      "Successfully installed graphviz-0.20.1\n",
      "\n"
     ]
    }
   ],
   "source": [
    "pip install graphviz"
   ]
  },
  {
   "cell_type": "code",
   "execution_count": 24,
   "id": "b2ca574d",
   "metadata": {},
   "outputs": [],
   "source": [
    "import pandas as pd\n",
    "import numpy as np\n",
    "import statsmodels.api as sm\n",
    "from graphviz import Digraph\n",
    "%matplotlib inline"
   ]
  },
  {
   "cell_type": "code",
   "execution_count": 29,
   "id": "61845516",
   "metadata": {},
   "outputs": [],
   "source": [
    "completed_delivery = df[(df.driver_action!='accepted')&(df.driver_action!='rejected')] "
   ]
  },
  {
   "cell_type": "code",
   "execution_count": null,
   "id": "6b66123c",
   "metadata": {},
   "outputs": [],
   "source": [
    "df2['handling_time_minutes'] = (df2['Trip End Time'] - df2['Trip Start Time']).dt.total_seconds() / 60\n",
    "\n",
    "df2.head()\n"
   ]
  },
  {
   "cell_type": "markdown",
   "id": "da9ceabf",
   "metadata": {},
   "source": [
    "# Feature Selection"
   ]
  },
  {
   "cell_type": "markdown",
   "id": "730d6de5",
   "metadata": {},
   "source": [
    "With the preprocessed data set, feature selection is executed to identify the truly important feature. In this project, the ensembled tree method - gradient boosting is used to study the importance of each feature"
   ]
  },
  {
   "cell_type": "code",
   "execution_count": 33,
   "id": "e1da9782",
   "metadata": {},
   "outputs": [],
   "source": [
    "from sklearn.ensemble import GradientBoostingRegressor "
   ]
  },
  {
   "cell_type": "code",
   "execution_count": 32,
   "id": "5fae26a6",
   "metadata": {},
   "outputs": [],
   "source": [
    "def plot_feature_importance(model, features):\n",
    "    \n",
    "    # Select the top 7 features\n",
    "    num_features = 7\n",
    "    importance = model.feature_importances_/sum(model.feature_importances_)\n",
    "    idx = np.argsort(importance)[::-1][:num_features]\n",
    "\n",
    "    fig, ax1 = plt.subplots(figsize=(15, 5))\n",
    "\n",
    "    # Primary axis\n",
    "    ax1.bar(x = np.arange(0, num_features), height = importance[idx])\n",
    "    ax1.set_xticks(ticks = np.arange(0, num_features))\n",
    "    ax1.set_xticklabels(features[idx], rotation = 90) \n",
    "    ax1.set_xlabel(\"Features\")\n",
    "    ax1.set_ylabel(\"Importance\")\n",
    "    ax1.set_title('Importance of Respective Features')\n",
    "\n",
    "    # Secondary axis\n",
    "    ax2 = ax1.twinx()\n",
    "    ax2.plot(np.cumsum(importance[idx]), 'ro-')\n",
    "    ax2.set_ylabel(\"Accumulative Importance\")\n",
    "    plt.show()\n",
    "\n",
    "    return features[idx]"
   ]
  },
  {
   "cell_type": "code",
   "execution_count": null,
   "id": "15e23052",
   "metadata": {},
   "outputs": [],
   "source": []
  }
 ],
 "metadata": {
  "kernelspec": {
   "display_name": "Python 3 (ipykernel)",
   "language": "python",
   "name": "python3"
  },
  "language_info": {
   "codemirror_mode": {
    "name": "ipython",
    "version": 3
   },
   "file_extension": ".py",
   "mimetype": "text/x-python",
   "name": "python",
   "nbconvert_exporter": "python",
   "pygments_lexer": "ipython3",
   "version": "3.9.12"
  }
 },
 "nbformat": 4,
 "nbformat_minor": 5
}
